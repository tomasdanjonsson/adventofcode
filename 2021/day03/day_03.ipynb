{
 "cells": [
  {
   "cell_type": "markdown",
   "metadata": {},
   "source": [
    "# Binary Diagnostic"
   ]
  },
  {
   "cell_type": "markdown",
   "metadata": {},
   "source": [
    "## Part One"
   ]
  },
  {
   "cell_type": "code",
   "execution_count": 95,
   "metadata": {},
   "outputs": [],
   "source": [
    "bits = [\n",
    "    \"00100\",\n",
    "    \"11110\",\n",
    "    \"10110\",\n",
    "    \"10111\",\n",
    "    \"10101\",\n",
    "    \"01111\",\n",
    "    \"00111\",\n",
    "    \"11100\",\n",
    "    \"10000\",\n",
    "    \"11001\",\n",
    "    \"00010\",\n",
    "    \"01010\",\n",
    "]\n"
   ]
  },
  {
   "cell_type": "code",
   "execution_count": 129,
   "metadata": {},
   "outputs": [
    {
     "name": "stdout",
     "output_type": "stream",
     "text": [
      "[7, 5, 8, 7, 5]\n",
      "[5, 7, 4, 5, 7]\n",
      "[1, 0, 1, 1, 0]\n",
      "[0, 1, 0, 0, 1]\n",
      "198\n"
     ]
    }
   ],
   "source": [
    "count_ones = [0] * len(bits[0])\n",
    "count_zeros = [0] * len(bits[0])\n",
    "\n",
    "rate_gamma = [0] * len(bits[0])\n",
    "rate_epsilon = [0] * len(bits[0])\n",
    "\n",
    "for line in bits:\n",
    "    for index, bit in enumerate(line):\n",
    "        if bit == '1':\n",
    "            count_ones[index] += 1\n",
    "        else:\n",
    "            count_zeros[index] += 1\n",
    "\n",
    "for i, _ in enumerate(count_ones):\n",
    "    if count_ones[i] > count_zeros[i]:\n",
    "        rate_gamma[i] += 1\n",
    "    else:\n",
    "        rate_gamma[i] += 0\n",
    "        rate_epsilon[i] += 1\n",
    "\n",
    "print(count_ones)\n",
    "print(count_zeros)\n",
    "print(rate_gamma)\n",
    "print(rate_epsilon)\n",
    "\n",
    "gamma = ''.join(str(i) for i in rate_gamma)\n",
    "epsilon = ''.join(str(i) for i in rate_epsilon)\n",
    "\n",
    "power_consumption = int(gamma, 2) * int(epsilon, 2)\n",
    "\n",
    "print(power_consumption)"
   ]
  },
  {
   "cell_type": "markdown",
   "metadata": {},
   "source": [
    "## Part Two"
   ]
  },
  {
   "cell_type": "code",
   "execution_count": null,
   "metadata": {},
   "outputs": [],
   "source": []
  }
 ],
 "metadata": {
  "interpreter": {
   "hash": "05e7302aae9da5eec2af90f1b63761e6dcee166f9a8e030575bc178b4db1a1b7"
  },
  "kernelspec": {
   "display_name": "Python 3.9.7 64-bit ('.venv': venv)",
   "language": "python",
   "name": "python3"
  },
  "language_info": {
   "codemirror_mode": {
    "name": "ipython",
    "version": 3
   },
   "file_extension": ".py",
   "mimetype": "text/x-python",
   "name": "python",
   "nbconvert_exporter": "python",
   "pygments_lexer": "ipython3",
   "version": "3.9.7"
  },
  "orig_nbformat": 4
 },
 "nbformat": 4,
 "nbformat_minor": 2
}
