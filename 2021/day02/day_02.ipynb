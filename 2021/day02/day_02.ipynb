{
 "cells": [
  {
   "cell_type": "markdown",
   "metadata": {},
   "source": [
    "# Dive!\n"
   ]
  },
  {
   "cell_type": "markdown",
   "metadata": {},
   "source": [
    "## Part One\n"
   ]
  },
  {
   "cell_type": "code",
   "execution_count": 1,
   "metadata": {},
   "outputs": [],
   "source": [
    "sub_course: list[str] = [\n",
    "    \"forward 5\",\n",
    "    \"down 5\",\n",
    "    \"forward 8\",\n",
    "    \"up 3\",\n",
    "    \"down 8\",\n",
    "    \"forward 2\",\n",
    "]"
   ]
  },
  {
   "cell_type": "code",
   "execution_count": 5,
   "metadata": {},
   "outputs": [
    {
     "name": "stdout",
     "output_type": "stream",
     "text": [
      "15 * 10 = 150\n",
      "150\n"
     ]
    }
   ],
   "source": [
    "horizontal: int = 0\n",
    "depth: int = 0\n",
    "\n",
    "for line in sub_course:\n",
    "    if line[0] == \"f\":\n",
    "        horizontal += int(line[-1:])\n",
    "    elif line[0] == \"d\":\n",
    "        depth += int(line[-1:])\n",
    "    elif line[0] == \"u\":\n",
    "        depth -= int(line[-1:])\n",
    "\n",
    "solution = horizontal * depth\n",
    "\n",
    "print(f\"{horizontal} * {depth} = {solution}\")\n",
    "print(solution)"
   ]
  },
  {
   "cell_type": "markdown",
   "metadata": {},
   "source": [
    "## Part Two"
   ]
  },
  {
   "cell_type": "code",
   "execution_count": 6,
   "metadata": {},
   "outputs": [],
   "source": [
    "sub_course: list[str] = [\n",
    "    \"forward 5\",\n",
    "    \"down 5\",\n",
    "    \"forward 8\",\n",
    "    \"up 3\",\n",
    "    \"down 8\",\n",
    "    \"forward 2\",\n",
    "]"
   ]
  },
  {
   "cell_type": "code",
   "execution_count": 9,
   "metadata": {},
   "outputs": [
    {
     "name": "stdout",
     "output_type": "stream",
     "text": [
      "15 * 60 = 900\n",
      "900\n"
     ]
    }
   ],
   "source": [
    "horizontal: int = 0\n",
    "depth: int = 0\n",
    "aim: int = 0\n",
    "\n",
    "for line in sub_course:\n",
    "    if line[0] == \"f\":\n",
    "        horizontal += int(line[-1:])\n",
    "        depth += aim * int(line[-1:])\n",
    "    elif line[0] == \"d\":\n",
    "        aim += int(line[-1:])\n",
    "    elif line[0] == \"u\":\n",
    "        aim -= int(line[-1:])\n",
    "\n",
    "solution = horizontal * depth\n",
    "\n",
    "print(f\"{horizontal} * {depth} = {solution}\")\n",
    "print(solution)"
   ]
  }
 ],
 "metadata": {
  "interpreter": {
   "hash": "05e7302aae9da5eec2af90f1b63761e6dcee166f9a8e030575bc178b4db1a1b7"
  },
  "kernelspec": {
   "display_name": "Python 3.9.7 64-bit ('.venv': venv)",
   "language": "python",
   "name": "python3"
  },
  "language_info": {
   "codemirror_mode": {
    "name": "ipython",
    "version": 3
   },
   "file_extension": ".py",
   "mimetype": "text/x-python",
   "name": "python",
   "nbconvert_exporter": "python",
   "pygments_lexer": "ipython3",
   "version": "3.9.7"
  },
  "orig_nbformat": 4
 },
 "nbformat": 4,
 "nbformat_minor": 2
}
