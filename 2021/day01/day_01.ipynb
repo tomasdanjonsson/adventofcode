{
 "cells": [
  {
   "cell_type": "markdown",
   "metadata": {},
   "source": [
    "# Sonar Sweep\n"
   ]
  },
  {
   "cell_type": "markdown",
   "metadata": {},
   "source": [
    "## Part One\n"
   ]
  },
  {
   "cell_type": "markdown",
   "metadata": {},
   "source": [
    "### Examples\n"
   ]
  },
  {
   "cell_type": "code",
   "execution_count": 1,
   "metadata": {},
   "outputs": [],
   "source": [
    "report_example: list[str] = [\n",
    "    \"199\",\n",
    "    \"200\",\n",
    "    \"208\",\n",
    "    \"210\",\n",
    "    \"200\",\n",
    "    \"207\",\n",
    "    \"240\",\n",
    "    \"269\",\n",
    "    \"260\",\n",
    "    \"263\",\n",
    "]"
   ]
  },
  {
   "cell_type": "code",
   "execution_count": 2,
   "metadata": {},
   "outputs": [
    {
     "name": "stdout",
     "output_type": "stream",
     "text": [
      "199 (N/A - no previous measurement)\n",
      "200 (INCREASED)\n",
      "208 (INCREASED)\n",
      "210 (INCREASED)\n",
      "200 (decreased)\n",
      "207 (INCREASED)\n",
      "240 (INCREASED)\n",
      "269 (INCREASED)\n",
      "260 (decreased)\n",
      "263 (INCREASED)\n",
      "Measurements larger than previous: 7\n"
     ]
    }
   ],
   "source": [
    "counter: int = 0\n",
    "\n",
    "print(f\"{report_example[0]} (N/A - no previous measurement)\")\n",
    "\n",
    "for number in range(len(report_example) - 1):\n",
    "    if int(report_example[number + 1]) > int(report_example[number]):\n",
    "        counter += 1\n",
    "        print(f\"{report_example[number + 1]} (INCREASED)\")\n",
    "    else:\n",
    "        print(f\"{report_example[number + 1]} (decreased)\")\n",
    "\n",
    "print(f\"Measurements larger than previous: {counter}\")"
   ]
  },
  {
   "cell_type": "code",
   "execution_count": 4,
   "metadata": {},
   "outputs": [
    {
     "name": "stdout",
     "output_type": "stream",
     "text": [
      "Measurements larger than previous: 7\n"
     ]
    }
   ],
   "source": [
    "increase: int = sum(\n",
    "    [report_example[i + 1] > report_example[i] for i in range(len(report_example) - 1)]\n",
    ")\n",
    "\n",
    "print(f\"Measurements larger than previous: {increase}\")"
   ]
  },
  {
   "cell_type": "markdown",
   "metadata": {},
   "source": [
    "### Solution\n"
   ]
  },
  {
   "cell_type": "code",
   "execution_count": 5,
   "metadata": {},
   "outputs": [
    {
     "name": "stdout",
     "output_type": "stream",
     "text": [
      "Measurements larger than previous: 1759\n"
     ]
    }
   ],
   "source": [
    "with open(\"input.txt\", \"r\") as file:\n",
    "    lines = [int(i) for i in file]\n",
    "\n",
    "counter: int = 0\n",
    "\n",
    "for number in range(len(lines) - 1):\n",
    "    if int(lines[number + 1]) > int(lines[number]):\n",
    "        counter += 1\n",
    "\n",
    "print(f\"Measurements larger than previous: {counter}\")"
   ]
  },
  {
   "cell_type": "markdown",
   "metadata": {},
   "source": [
    "## Part Two\n"
   ]
  },
  {
   "cell_type": "markdown",
   "metadata": {},
   "source": [
    "### Examples\n"
   ]
  },
  {
   "cell_type": "code",
   "execution_count": 6,
   "metadata": {},
   "outputs": [],
   "source": [
    "report_example: list[str] = [\n",
    "    \"199\",\n",
    "    \"200\",\n",
    "    \"208\",\n",
    "    \"210\",\n",
    "    \"200\",\n",
    "    \"207\",\n",
    "    \"240\",\n",
    "    \"269\",\n",
    "    \"260\",\n",
    "    \"263\",\n",
    "]"
   ]
  },
  {
   "cell_type": "code",
   "execution_count": 7,
   "metadata": {},
   "outputs": [
    {
     "name": "stdout",
     "output_type": "stream",
     "text": [
      "Sums larger than previous sums: 5\n"
     ]
    }
   ],
   "source": [
    "counter: int = 0\n",
    "\n",
    "for number in range(len(report_example) - 3):\n",
    "    if int(report_example[number + 3]) > int(report_example[number]):\n",
    "        counter += 1\n",
    "\n",
    "print(f\"Sums larger than previous sums: {counter}\")"
   ]
  },
  {
   "cell_type": "code",
   "execution_count": 8,
   "metadata": {},
   "outputs": [
    {
     "name": "stdout",
     "output_type": "stream",
     "text": [
      "Sums larger than previous sums: 5\n"
     ]
    }
   ],
   "source": [
    "larger = sum(\n",
    "    [report_example[i + 3] > report_example[i] for i in range(len(report_example) - 3)]\n",
    ")\n",
    "\n",
    "print(f\"Sums larger than previous sums: {larger}\")"
   ]
  },
  {
   "cell_type": "markdown",
   "metadata": {},
   "source": [
    "### Solution\n"
   ]
  },
  {
   "cell_type": "code",
   "execution_count": 9,
   "metadata": {},
   "outputs": [
    {
     "name": "stdout",
     "output_type": "stream",
     "text": [
      "Measurements larger than previous: 1805\n"
     ]
    }
   ],
   "source": [
    "with open(\"input.txt\", \"r\") as file:\n",
    "    lines = [int(i) for i in file]\n",
    "\n",
    "counter: int = 0\n",
    "\n",
    "for number in range(len(lines) - 3):\n",
    "    if int(lines[number + 3]) > int(lines[number]):\n",
    "        counter += 1\n",
    "\n",
    "print(f\"Measurements larger than previous: {counter}\")"
   ]
  }
 ],
 "metadata": {
  "interpreter": {
   "hash": "05e7302aae9da5eec2af90f1b63761e6dcee166f9a8e030575bc178b4db1a1b7"
  },
  "kernelspec": {
   "display_name": "Python 3.9.7 64-bit ('.venv': venv)",
   "language": "python",
   "name": "python3"
  },
  "language_info": {
   "codemirror_mode": {
    "name": "ipython",
    "version": 3
   },
   "file_extension": ".py",
   "mimetype": "text/x-python",
   "name": "python",
   "nbconvert_exporter": "python",
   "pygments_lexer": "ipython3",
   "version": "3.9.7"
  },
  "orig_nbformat": 4
 },
 "nbformat": 4,
 "nbformat_minor": 2
}